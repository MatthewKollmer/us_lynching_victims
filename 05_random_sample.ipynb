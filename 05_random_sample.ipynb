{
 "cells": [
  {
   "metadata": {},
   "cell_type": "markdown",
   "source": "# Create Random Sample of Data",
   "id": "9229ee56936ad4e7"
  },
  {
   "cell_type": "code",
   "id": "initial_id",
   "metadata": {
    "collapsed": true
   },
   "source": [
    "import os\n",
    "import pandas as pd"
   ],
   "outputs": [],
   "execution_count": null
  },
  {
   "metadata": {},
   "cell_type": "markdown",
   "source": [
    "## 1) Overview\n",
    "\n",
    "This step is necessary to prepare training data for BERT classification of the newspaper clippings. It's a simple step. All I have to do is randomly select 1,000 rows that contain clippings from our data. This random selection is then hand-labelled (see 06_label_training_data.ipynb) and used to fine-tune BERT for our specific classification task."
   ],
   "id": "db38665cc411f708"
  },
  {
   "metadata": {},
   "cell_type": "markdown",
   "source": [
    "## 2) Compile Clippings from All CSV Files\n",
    "\n",
    "To make a truly random selection, I'm compiling all the .csv files together and selecting 1,000 rows from the aggregated data."
   ],
   "id": "97c3dc28afcfb8ce"
  },
  {
   "metadata": {},
   "cell_type": "code",
   "source": [
    "directory = 'name_clusters'\n",
    "clippings_urls = []\n",
    "\n",
    "for filename in os.listdir(directory):\n",
    "    file_path = os.path.join(directory, filename)\n",
    "    try:\n",
    "        df = pd.read_csv(file_path, usecols=['clippings', 'url', 'victim'])\n",
    "        df = df.dropna(subset=['clippings'])\n",
    "        clippings_urls.append(df)\n",
    "        \n",
    "    except Exception as e:\n",
    "        print(f'{file_path} caused error {e}')\n",
    "\n",
    "all_clippings = pd.concat(clippings_urls, ignore_index=True)"
   ],
   "id": "b05181d0d860107d",
   "outputs": [],
   "execution_count": null
  },
  {
   "metadata": {},
   "cell_type": "markdown",
   "source": [
    "## 3) Create Sample of 2,000 Clippings\n",
    "\n",
    "Then I make the random selection:"
   ],
   "id": "fb7f567909d8d12b"
  },
  {
   "metadata": {},
   "cell_type": "code",
   "source": "random_clippings = all_clippings.sample(n=2000)",
   "id": "f25eefc5bc7e9ee7",
   "outputs": [],
   "execution_count": null
  },
  {
   "metadata": {},
   "cell_type": "markdown",
   "source": [
    "## 4) Break into 20 Chunks\n",
    "\n",
    "To make the hand-labelling step easier, I've split the random selection into 20 chunks, 100 clippings apiece."
   ],
   "id": "9703dc33c88af21c"
  },
  {
   "metadata": {},
   "cell_type": "code",
   "source": [
    "for i in range(20):\n",
    "    start_index = i * 100\n",
    "    end_index = (i + 1) * 100\n",
    "    chunk = random_clippings[start_index:end_index]\n",
    "    df_chunk = pd.DataFrame(chunk, columns=['clippings', 'url', 'victim'])\n",
    "    output_name = f'training_data_2/clippings_part_{i+1}.csv'\n",
    "    df_chunk.to_csv(output_name, index=False)"
   ],
   "id": "9f753547cdce0ed4",
   "outputs": [],
   "execution_count": null
  },
  {
   "metadata": {},
   "cell_type": "code",
   "source": "",
   "id": "c6a2ab6f95b441ff",
   "outputs": [],
   "execution_count": null
  }
 ],
 "metadata": {
  "kernelspec": {
   "display_name": "Python 3",
   "language": "python",
   "name": "python3"
  },
  "language_info": {
   "codemirror_mode": {
    "name": "ipython",
    "version": 2
   },
   "file_extension": ".py",
   "mimetype": "text/x-python",
   "name": "python",
   "nbconvert_exporter": "python",
   "pygments_lexer": "ipython2",
   "version": "2.7.6"
  }
 },
 "nbformat": 4,
 "nbformat_minor": 5
}
